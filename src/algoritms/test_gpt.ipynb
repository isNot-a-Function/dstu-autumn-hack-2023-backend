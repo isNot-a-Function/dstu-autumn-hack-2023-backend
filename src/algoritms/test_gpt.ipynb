{
 "cells": [
  {
   "cell_type": "code",
   "execution_count": 25,
   "metadata": {},
   "outputs": [
    {
     "name": "stdout",
     "output_type": "stream",
     "text": [
      "Note: you may need to restart the kernel to use updated packages.\n"
     ]
    }
   ],
   "source": [
    "%pip freeze > requirements.txt"
   ]
  },
  {
   "cell_type": "code",
   "execution_count": 3,
   "metadata": {},
   "outputs": [],
   "source": [
    "local_path = r'C:\\Users\\coolm\\Downloads\\orca-mini-3b-gguf2-q4_0.gguf'"
   ]
  },
  {
   "cell_type": "code",
   "execution_count": 1,
   "metadata": {},
   "outputs": [],
   "source": [
    "import gpt4all"
   ]
  },
  {
   "cell_type": "code",
   "execution_count": 2,
   "metadata": {},
   "outputs": [
    {
     "data": {
      "text/plain": [
       "['Embed4All',\n",
       " 'GPT4All',\n",
       " 'LLModel',\n",
       " '__builtins__',\n",
       " '__cached__',\n",
       " '__doc__',\n",
       " '__file__',\n",
       " '__loader__',\n",
       " '__name__',\n",
       " '__package__',\n",
       " '__path__',\n",
       " '__spec__',\n",
       " 'gpt4all',\n",
       " 'pyllmodel']"
      ]
     },
     "execution_count": 2,
     "metadata": {},
     "output_type": "execute_result"
    }
   ],
   "source": [
    "dir(gpt4all)"
   ]
  },
  {
   "cell_type": "code",
   "execution_count": 3,
   "metadata": {},
   "outputs": [],
   "source": [
    "from gpt4all import GPT4All"
   ]
  },
  {
   "cell_type": "code",
   "execution_count": 4,
   "metadata": {},
   "outputs": [],
   "source": [
    "gpt=GPT4All(model_name='mistral-7b-openorca.Q4_0.gguf',model_path='C:\\\\Users\\\\coolm\\Downloads\\\\')"
   ]
  },
  {
   "cell_type": "code",
   "execution_count": 20,
   "metadata": {},
   "outputs": [
    {
     "name": "stdout",
     "output_type": "stream",
     "text": [
      "Object `gpt.chat_completion` not found.\n"
     ]
    }
   ],
   "source": [
    "gpt.chat_completion??"
   ]
  },
  {
   "cell_type": "code",
   "execution_count": 9,
   "metadata": {},
   "outputs": [],
   "source": [
    "request = \"\"\"It is necessary to act in the role of Checking tasks.definition is \"Java is a kind of bird\" is it true? \n",
    "Please answer only with the words 'yes' if the definition is true or 'no' if it is false.\"\"\"\n",
    "\n"
   ]
  },
  {
   "cell_type": "code",
   "execution_count": 24,
   "metadata": {},
   "outputs": [
    {
     "name": "stdout",
     "output_type": "stream",
     "text": [
      "\n"
     ]
    }
   ],
   "source": [
    "output = gpt.generate(request)\n",
    "print(output)"
   ]
  },
  {
   "cell_type": "code",
   "execution_count": 14,
   "metadata": {},
   "outputs": [
    {
     "name": "stdout",
     "output_type": "stream",
     "text": [
      "Collecting replicateNote: you may need to restart the kernel to use updated packages.\n",
      "\n",
      "  Downloading replicate-0.15.4-py3-none-any.whl.metadata (19 kB)\n",
      "Requirement already satisfied: packaging in c:\\users\\coolm\\documents\\github\\dstu-autumn-hack-2023-backend\\.venv\\lib\\site-packages (from replicate) (23.2)\n",
      "Collecting pydantic>1 (from replicate)\n",
      "  Downloading pydantic-2.4.2-py3-none-any.whl.metadata (158 kB)\n",
      "     ---------------------------------------- 0.0/158.6 kB ? eta -:--:--\n",
      "     ---------------------------------------- 0.0/158.6 kB ? eta -:--:--\n",
      "     ------- ----------------------------- 30.7/158.6 kB 435.7 kB/s eta 0:00:01\n",
      "     -------------- ---------------------- 61.4/158.6 kB 656.4 kB/s eta 0:00:01\n",
      "     -------------------------------------- 158.6/158.6 kB 1.1 MB/s eta 0:00:00\n",
      "Collecting httpx<1,>=0.21.0 (from replicate)\n",
      "  Downloading httpx-0.25.0-py3-none-any.whl.metadata (7.6 kB)\n",
      "Requirement already satisfied: certifi in c:\\users\\coolm\\documents\\github\\dstu-autumn-hack-2023-backend\\.venv\\lib\\site-packages (from httpx<1,>=0.21.0->replicate) (2023.7.22)\n",
      "Collecting httpcore<0.19.0,>=0.18.0 (from httpx<1,>=0.21.0->replicate)\n",
      "  Downloading httpcore-0.18.0-py3-none-any.whl.metadata (18 kB)\n",
      "Requirement already satisfied: idna in c:\\users\\coolm\\documents\\github\\dstu-autumn-hack-2023-backend\\.venv\\lib\\site-packages (from httpx<1,>=0.21.0->replicate) (3.4)\n",
      "Collecting sniffio (from httpx<1,>=0.21.0->replicate)\n",
      "  Downloading sniffio-1.3.0-py3-none-any.whl (10 kB)\n",
      "Collecting annotated-types>=0.4.0 (from pydantic>1->replicate)\n",
      "  Downloading annotated_types-0.6.0-py3-none-any.whl.metadata (12 kB)\n",
      "Collecting pydantic-core==2.10.1 (from pydantic>1->replicate)\n",
      "  Downloading pydantic_core-2.10.1-cp311-none-win_amd64.whl.metadata (6.6 kB)\n",
      "Collecting typing-extensions>=4.6.1 (from pydantic>1->replicate)\n",
      "  Downloading typing_extensions-4.8.0-py3-none-any.whl.metadata (3.0 kB)\n",
      "Collecting anyio<5.0,>=3.0 (from httpcore<0.19.0,>=0.18.0->httpx<1,>=0.21.0->replicate)\n",
      "  Downloading anyio-4.0.0-py3-none-any.whl.metadata (4.5 kB)\n",
      "Collecting h11<0.15,>=0.13 (from httpcore<0.19.0,>=0.18.0->httpx<1,>=0.21.0->replicate)\n",
      "  Downloading h11-0.14.0-py3-none-any.whl (58 kB)\n",
      "     ---------------------------------------- 0.0/58.3 kB ? eta -:--:--\n",
      "     ---------------------------------------- 58.3/58.3 kB 3.0 MB/s eta 0:00:00\n",
      "Downloading replicate-0.15.4-py3-none-any.whl (25 kB)\n",
      "Downloading httpx-0.25.0-py3-none-any.whl (75 kB)\n",
      "   ---------------------------------------- 0.0/75.7 kB ? eta -:--:--\n",
      "   ---------------------------------------- 75.7/75.7 kB 4.1 MB/s eta 0:00:00\n",
      "Downloading pydantic-2.4.2-py3-none-any.whl (395 kB)\n",
      "   ---------------------------------------- 0.0/395.8 kB ? eta -:--:--\n",
      "   -------------- ------------------------- 143.4/395.8 kB 2.8 MB/s eta 0:00:01\n",
      "   ---------------------------- ----------- 286.7/395.8 kB 2.9 MB/s eta 0:00:01\n",
      "   ---------------------------------------- 395.8/395.8 kB 3.1 MB/s eta 0:00:00\n",
      "Downloading pydantic_core-2.10.1-cp311-none-win_amd64.whl (2.0 MB)\n",
      "   ---------------------------------------- 0.0/2.0 MB ? eta -:--:--\n",
      "   ----- ---------------------------------- 0.3/2.0 MB 16.4 MB/s eta 0:00:01\n",
      "   --------- ------------------------------ 0.5/2.0 MB 6.0 MB/s eta 0:00:01\n",
      "   -------------------- ------------------- 1.0/2.0 MB 7.9 MB/s eta 0:00:01\n",
      "   ----------------------- ---------------- 1.2/2.0 MB 7.5 MB/s eta 0:00:01\n",
      "   ----------------------------------- ---- 1.8/2.0 MB 7.6 MB/s eta 0:00:01\n",
      "   ---------------------------------------- 2.0/2.0 MB 7.5 MB/s eta 0:00:00\n",
      "Downloading annotated_types-0.6.0-py3-none-any.whl (12 kB)\n",
      "Downloading httpcore-0.18.0-py3-none-any.whl (76 kB)\n",
      "   ---------------------------------------- 0.0/76.0 kB ? eta -:--:--\n",
      "   ---------------------------------------- 76.0/76.0 kB 4.4 MB/s eta 0:00:00\n",
      "Downloading typing_extensions-4.8.0-py3-none-any.whl (31 kB)\n",
      "Downloading anyio-4.0.0-py3-none-any.whl (83 kB)\n",
      "   ---------------------------------------- 0.0/83.1 kB ? eta -:--:--\n",
      "   ---------------------------------------- 83.1/83.1 kB 4.9 MB/s eta 0:00:00\n",
      "Installing collected packages: typing-extensions, sniffio, h11, annotated-types, pydantic-core, anyio, pydantic, httpcore, httpx, replicate\n",
      "Successfully installed annotated-types-0.6.0 anyio-4.0.0 h11-0.14.0 httpcore-0.18.0 httpx-0.25.0 pydantic-2.4.2 pydantic-core-2.10.1 replicate-0.15.4 sniffio-1.3.0 typing-extensions-4.8.0\n"
     ]
    }
   ],
   "source": [
    "%pip install replicate "
   ]
  },
  {
   "cell_type": "code",
   "execution_count": 16,
   "metadata": {},
   "outputs": [],
   "source": [
    "import replicate"
   ]
  },
  {
   "cell_type": "code",
   "execution_count": 23,
   "metadata": {},
   "outputs": [
    {
     "ename": "ReplicateError",
     "evalue": "You did not pass an authentication token",
     "output_type": "error",
     "traceback": [
      "\u001b[1;31m---------------------------------------------------------------------------\u001b[0m",
      "\u001b[1;31mReplicateError\u001b[0m                            Traceback (most recent call last)",
      "\u001b[1;32mc:\\Users\\coolm\\Documents\\GitHub\\dstu-autumn-hack-2023-backend\\src\\algoritms\\test_gpt.ipynb Cell 12\u001b[0m line \u001b[0;36m2\n\u001b[0;32m      <a href='vscode-notebook-cell:/c%3A/Users/coolm/Documents/GitHub/dstu-autumn-hack-2023-backend/src/algoritms/test_gpt.ipynb#X14sZmlsZQ%3D%3D?line=0'>1</a>\u001b[0m \u001b[39mimport\u001b[39;00m \u001b[39mreplicate\u001b[39;00m\n\u001b[1;32m----> <a href='vscode-notebook-cell:/c%3A/Users/coolm/Documents/GitHub/dstu-autumn-hack-2023-backend/src/algoritms/test_gpt.ipynb#X14sZmlsZQ%3D%3D?line=1'>2</a>\u001b[0m output \u001b[39m=\u001b[39m replicate\u001b[39m.\u001b[39;49mrun(\n\u001b[0;32m      <a href='vscode-notebook-cell:/c%3A/Users/coolm/Documents/GitHub/dstu-autumn-hack-2023-backend/src/algoritms/test_gpt.ipynb#X14sZmlsZQ%3D%3D?line=2'>3</a>\u001b[0m     \u001b[39m\"\u001b[39;49m\u001b[39mreplicate/llama-7b:ac808388e2e9d8ed35a5bf2eaa7d83f0ad53f9e3df31a42e4eb0a0c3249b3165\u001b[39;49m\u001b[39m\"\u001b[39;49m,\n\u001b[0;32m      <a href='vscode-notebook-cell:/c%3A/Users/coolm/Documents/GitHub/dstu-autumn-hack-2023-backend/src/algoritms/test_gpt.ipynb#X14sZmlsZQ%3D%3D?line=3'>4</a>\u001b[0m     \u001b[39minput\u001b[39;49m\u001b[39m=\u001b[39;49m{\u001b[39m\"\u001b[39;49m\u001b[39mprompt\u001b[39;49m\u001b[39m\"\u001b[39;49m: \u001b[39m'\u001b[39;49m\u001b[39mis \u001b[39;49m\u001b[39m\"\u001b[39;49m\u001b[39mJava is a kind of bird\u001b[39;49m\u001b[39m\"\u001b[39;49m\u001b[39m is it true? Yes or no\u001b[39;49m\u001b[39m'\u001b[39;49m}\n\u001b[0;32m      <a href='vscode-notebook-cell:/c%3A/Users/coolm/Documents/GitHub/dstu-autumn-hack-2023-backend/src/algoritms/test_gpt.ipynb#X14sZmlsZQ%3D%3D?line=4'>5</a>\u001b[0m )\n\u001b[0;32m      <a href='vscode-notebook-cell:/c%3A/Users/coolm/Documents/GitHub/dstu-autumn-hack-2023-backend/src/algoritms/test_gpt.ipynb#X14sZmlsZQ%3D%3D?line=5'>6</a>\u001b[0m \u001b[39m# The replicate/llama-7b model can stream output as it's running.\u001b[39;00m\n\u001b[0;32m      <a href='vscode-notebook-cell:/c%3A/Users/coolm/Documents/GitHub/dstu-autumn-hack-2023-backend/src/algoritms/test_gpt.ipynb#X14sZmlsZQ%3D%3D?line=6'>7</a>\u001b[0m \u001b[39m# The predict method returns an iterator, and you can iterate over that output.\u001b[39;00m\n\u001b[0;32m      <a href='vscode-notebook-cell:/c%3A/Users/coolm/Documents/GitHub/dstu-autumn-hack-2023-backend/src/algoritms/test_gpt.ipynb#X14sZmlsZQ%3D%3D?line=7'>8</a>\u001b[0m \u001b[39mfor\u001b[39;00m item \u001b[39min\u001b[39;00m output:\n\u001b[0;32m      <a href='vscode-notebook-cell:/c%3A/Users/coolm/Documents/GitHub/dstu-autumn-hack-2023-backend/src/algoritms/test_gpt.ipynb#X14sZmlsZQ%3D%3D?line=8'>9</a>\u001b[0m     \u001b[39m# https://replicate.com/replicate/llama-7b/versions/ac808388e2e9d8ed35a5bf2eaa7d83f0ad53f9e3df31a42e4eb0a0c3249b3165/api#output-schema\u001b[39;00m\n",
      "File \u001b[1;32mc:\\Users\\coolm\\Documents\\GitHub\\dstu-autumn-hack-2023-backend\\.venv\\Lib\\site-packages\\replicate\\client.py:124\u001b[0m, in \u001b[0;36mClient.run\u001b[1;34m(self, model_version, **kwargs)\u001b[0m\n\u001b[0;32m    121\u001b[0m name \u001b[39m=\u001b[39m match\u001b[39m.\u001b[39mgroup(\u001b[39m\"\u001b[39m\u001b[39mname\u001b[39m\u001b[39m\"\u001b[39m)\n\u001b[0;32m    122\u001b[0m version_id \u001b[39m=\u001b[39m match\u001b[39m.\u001b[39mgroup(\u001b[39m\"\u001b[39m\u001b[39mversion\u001b[39m\u001b[39m\"\u001b[39m)\n\u001b[1;32m--> 124\u001b[0m prediction \u001b[39m=\u001b[39m \u001b[39mself\u001b[39;49m\u001b[39m.\u001b[39;49mpredictions\u001b[39m.\u001b[39;49mcreate(version\u001b[39m=\u001b[39;49mversion_id, \u001b[39m*\u001b[39;49m\u001b[39m*\u001b[39;49mkwargs)\n\u001b[0;32m    126\u001b[0m \u001b[39mif\u001b[39;00m owner \u001b[39mand\u001b[39;00m name:\n\u001b[0;32m    127\u001b[0m     \u001b[39m# FIXME: There should be a method for fetching a version without first fetching its model\u001b[39;00m\n\u001b[0;32m    128\u001b[0m     resp \u001b[39m=\u001b[39m \u001b[39mself\u001b[39m\u001b[39m.\u001b[39m_request(\n\u001b[0;32m    129\u001b[0m         \u001b[39m\"\u001b[39m\u001b[39mGET\u001b[39m\u001b[39m\"\u001b[39m, \u001b[39mf\u001b[39m\u001b[39m\"\u001b[39m\u001b[39m/v1/models/\u001b[39m\u001b[39m{\u001b[39;00mowner\u001b[39m}\u001b[39;00m\u001b[39m/\u001b[39m\u001b[39m{\u001b[39;00mname\u001b[39m}\u001b[39;00m\u001b[39m/versions/\u001b[39m\u001b[39m{\u001b[39;00mversion_id\u001b[39m}\u001b[39;00m\u001b[39m\"\u001b[39m\n\u001b[0;32m    130\u001b[0m     )\n",
      "File \u001b[1;32mc:\\Users\\coolm\\Documents\\GitHub\\dstu-autumn-hack-2023-backend\\.venv\\Lib\\site-packages\\replicate\\prediction.py:210\u001b[0m, in \u001b[0;36mPredictionCollection.create\u001b[1;34m(self, version, input, webhook, webhook_completed, webhook_events_filter, stream, **kwargs)\u001b[0m\n\u001b[0;32m    207\u001b[0m \u001b[39mif\u001b[39;00m stream \u001b[39mis\u001b[39;00m \u001b[39mTrue\u001b[39;00m:\n\u001b[0;32m    208\u001b[0m     body[\u001b[39m\"\u001b[39m\u001b[39mstream\u001b[39m\u001b[39m\"\u001b[39m] \u001b[39m=\u001b[39m \u001b[39m\"\u001b[39m\u001b[39mtrue\u001b[39m\u001b[39m\"\u001b[39m\n\u001b[1;32m--> 210\u001b[0m resp \u001b[39m=\u001b[39m \u001b[39mself\u001b[39;49m\u001b[39m.\u001b[39;49m_client\u001b[39m.\u001b[39;49m_request(\n\u001b[0;32m    211\u001b[0m     \u001b[39m\"\u001b[39;49m\u001b[39mPOST\u001b[39;49m\u001b[39m\"\u001b[39;49m,\n\u001b[0;32m    212\u001b[0m     \u001b[39m\"\u001b[39;49m\u001b[39m/v1/predictions\u001b[39;49m\u001b[39m\"\u001b[39;49m,\n\u001b[0;32m    213\u001b[0m     json\u001b[39m=\u001b[39;49mbody,\n\u001b[0;32m    214\u001b[0m )\n\u001b[0;32m    215\u001b[0m obj \u001b[39m=\u001b[39m resp\u001b[39m.\u001b[39mjson()\n\u001b[0;32m    216\u001b[0m \u001b[39mif\u001b[39;00m \u001b[39misinstance\u001b[39m(version, Version):\n",
      "File \u001b[1;32mc:\\Users\\coolm\\Documents\\GitHub\\dstu-autumn-hack-2023-backend\\.venv\\Lib\\site-packages\\replicate\\client.py:81\u001b[0m, in \u001b[0;36mClient._request\u001b[1;34m(self, method, path, **kwargs)\u001b[0m\n\u001b[0;32m     78\u001b[0m resp \u001b[39m=\u001b[39m \u001b[39mself\u001b[39m\u001b[39m.\u001b[39m_client\u001b[39m.\u001b[39mrequest(method, path, \u001b[39m*\u001b[39m\u001b[39m*\u001b[39mkwargs)\n\u001b[0;32m     80\u001b[0m \u001b[39mif\u001b[39;00m \u001b[39m400\u001b[39m \u001b[39m<\u001b[39m\u001b[39m=\u001b[39m resp\u001b[39m.\u001b[39mstatus_code \u001b[39m<\u001b[39m \u001b[39m600\u001b[39m:\n\u001b[1;32m---> 81\u001b[0m     \u001b[39mraise\u001b[39;00m ReplicateError(resp\u001b[39m.\u001b[39mjson()[\u001b[39m\"\u001b[39m\u001b[39mdetail\u001b[39m\u001b[39m\"\u001b[39m])\n\u001b[0;32m     83\u001b[0m \u001b[39mreturn\u001b[39;00m resp\n",
      "\u001b[1;31mReplicateError\u001b[0m: You did not pass an authentication token"
     ]
    }
   ],
   "source": [
    "import replicate\n",
    "output = replicate.run(\n",
    "    \"replicate/llama-7b:ac808388e2e9d8ed35a5bf2eaa7d83f0ad53f9e3df31a42e4eb0a0c3249b3165\",\n",
    "    input={\"prompt\": 'is \"Java is a kind of bird\" is it true? Yes or no'}\n",
    ")\n",
    "# The replicate/llama-7b model can stream output as it's running.\n",
    "# The predict method returns an iterator, and you can iterate over that output.\n",
    "for item in output:\n",
    "    # https://replicate.com/replicate/llama-7b/versions/ac808388e2e9d8ed35a5bf2eaa7d83f0ad53f9e3df31a42e4eb0a0c3249b3165/api#output-schema\n",
    "    print(item, end=\"\")"
   ]
  }
 ],
 "metadata": {
  "kernelspec": {
   "display_name": ".venv",
   "language": "python",
   "name": "python3"
  },
  "language_info": {
   "codemirror_mode": {
    "name": "ipython",
    "version": 3
   },
   "file_extension": ".py",
   "mimetype": "text/x-python",
   "name": "python",
   "nbconvert_exporter": "python",
   "pygments_lexer": "ipython3",
   "version": "3.11.5"
  }
 },
 "nbformat": 4,
 "nbformat_minor": 2
}
