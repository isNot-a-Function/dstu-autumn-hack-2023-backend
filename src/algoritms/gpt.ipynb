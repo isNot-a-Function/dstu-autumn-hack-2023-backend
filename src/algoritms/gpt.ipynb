{
 "cells": [
  {
   "cell_type": "code",
   "execution_count": 3,
   "metadata": {},
   "outputs": [
    {
     "name": "stdout",
     "output_type": "stream",
     "text": [
      "Collecting googletrans==4.0.0-rc1\n",
      "  Downloading googletrans-4.0.0rc1.tar.gz (20 kB)\n",
      "  Installing build dependencies: started\n",
      "  Installing build dependencies: finished with status 'done'\n",
      "  Getting requirements to build wheel: started\n",
      "  Getting requirements to build wheel: finished with status 'done'\n",
      "  Preparing metadata (pyproject.toml): started\n",
      "  Preparing metadata (pyproject.toml): finished with status 'done'\n",
      "Collecting httpx==0.13.3 (from googletrans==4.0.0-rc1)\n",
      "  Downloading httpx-0.13.3-py3-none-any.whl (55 kB)\n",
      "     ---------------------------------------- 0.0/55.1 kB ? eta -:--:--\n",
      "     ------- -------------------------------- 10.2/55.1 kB ? eta -:--:--\n",
      "     --------------------- ---------------- 30.7/55.1 kB 435.7 kB/s eta 0:00:01\n",
      "     -------------------------------------- 55.1/55.1 kB 575.1 kB/s eta 0:00:00\n",
      "Requirement already satisfied: certifi in c:\\users\\coolm\\documents\\github\\dstu-autumn-hack-2023-backend\\.venv\\lib\\site-packages (from httpx==0.13.3->googletrans==4.0.0-rc1) (2023.7.22)\n",
      "Collecting hstspreload (from httpx==0.13.3->googletrans==4.0.0-rc1)\n",
      "  Downloading hstspreload-2023.1.1-py3-none-any.whl (1.5 MB)\n",
      "     ---------------------------------------- 0.0/1.5 MB ? eta -:--:--\n",
      "     - -------------------------------------- 0.1/1.5 MB 3.4 MB/s eta 0:00:01\n",
      "     --- ------------------------------------ 0.1/1.5 MB 1.7 MB/s eta 0:00:01\n",
      "     ----- ---------------------------------- 0.2/1.5 MB 1.6 MB/s eta 0:00:01\n",
      "     -------- ------------------------------- 0.3/1.5 MB 2.3 MB/s eta 0:00:01\n",
      "     ------------ --------------------------- 0.5/1.5 MB 2.2 MB/s eta 0:00:01\n",
      "     ----------------- ---------------------- 0.7/1.5 MB 2.6 MB/s eta 0:00:01\n",
      "     ------------------------ --------------- 0.9/1.5 MB 3.1 MB/s eta 0:00:01\n",
      "     ------------------------ --------------- 0.9/1.5 MB 3.1 MB/s eta 0:00:01\n",
      "     -------------------------------------- - 1.5/1.5 MB 3.6 MB/s eta 0:00:01\n",
      "     ---------------------------------------- 1.5/1.5 MB 3.5 MB/s eta 0:00:00\n",
      "Requirement already satisfied: sniffio in c:\\users\\coolm\\documents\\github\\dstu-autumn-hack-2023-backend\\.venv\\lib\\site-packages (from httpx==0.13.3->googletrans==4.0.0-rc1) (1.3.0)\n",
      "Collecting chardet==3.* (from httpx==0.13.3->googletrans==4.0.0-rc1)\n",
      "  Downloading chardet-3.0.4-py2.py3-none-any.whl (133 kB)\n",
      "     ---------------------------------------- 0.0/133.4 kB ? eta -:--:--\n",
      "     -------------------------------------- 133.4/133.4 kB 7.7 MB/s eta 0:00:00\n",
      "Collecting idna==2.* (from httpx==0.13.3->googletrans==4.0.0-rc1)\n",
      "  Downloading idna-2.10-py2.py3-none-any.whl (58 kB)\n",
      "     ---------------------------------------- 0.0/58.8 kB ? eta -:--:--\n",
      "     ---------------------------------------- 58.8/58.8 kB 3.0 MB/s eta 0:00:00\n",
      "Collecting rfc3986<2,>=1.3 (from httpx==0.13.3->googletrans==4.0.0-rc1)\n",
      "  Downloading rfc3986-1.5.0-py2.py3-none-any.whl (31 kB)\n",
      "Collecting httpcore==0.9.* (from httpx==0.13.3->googletrans==4.0.0-rc1)\n",
      "  Downloading httpcore-0.9.1-py3-none-any.whl (42 kB)\n",
      "     ---------------------------------------- 0.0/42.6 kB ? eta -:--:--\n",
      "     ---------------------------------------- 42.6/42.6 kB 2.0 MB/s eta 0:00:00\n",
      "Collecting h11<0.10,>=0.8 (from httpcore==0.9.*->httpx==0.13.3->googletrans==4.0.0-rc1)\n",
      "  Downloading h11-0.9.0-py2.py3-none-any.whl (53 kB)\n",
      "     ---------------------------------------- 0.0/53.6 kB ? eta -:--:--\n",
      "     ---------------------------------------- 53.6/53.6 kB 2.7 MB/s eta 0:00:00\n",
      "Collecting h2==3.* (from httpcore==0.9.*->httpx==0.13.3->googletrans==4.0.0-rc1)\n",
      "  Downloading h2-3.2.0-py2.py3-none-any.whl (65 kB)\n",
      "     ---------------------------------------- 0.0/65.0 kB ? eta -:--:--\n",
      "     ---------------------------------------- 65.0/65.0 kB ? eta 0:00:00\n",
      "Collecting hyperframe<6,>=5.2.0 (from h2==3.*->httpcore==0.9.*->httpx==0.13.3->googletrans==4.0.0-rc1)\n",
      "  Downloading hyperframe-5.2.0-py2.py3-none-any.whl (12 kB)\n",
      "Collecting hpack<4,>=3.0 (from h2==3.*->httpcore==0.9.*->httpx==0.13.3->googletrans==4.0.0-rc1)\n",
      "  Downloading hpack-3.0.0-py2.py3-none-any.whl (38 kB)\n",
      "Building wheels for collected packages: googletrans\n",
      "  Building wheel for googletrans (pyproject.toml): started\n",
      "  Building wheel for googletrans (pyproject.toml): finished with status 'done'\n",
      "  Created wheel for googletrans: filename=googletrans-4.0.0rc1-py3-none-any.whl size=17458 sha256=4d849080b1eabf61fb59f7733732faf6af6f624dcd4a9ec29dbbbda102d02421\n",
      "  Stored in directory: c:\\users\\coolm\\appdata\\local\\pip\\cache\\wheels\\39\\17\\6f\\66a045ea3d168826074691b4b787b8f324d3f646d755443fda\n",
      "Successfully built googletrans\n",
      "Installing collected packages: rfc3986, hyperframe, hpack, h11, chardet, idna, hstspreload, h2, httpcore, httpx, googletrans\n",
      "  Attempting uninstall: hyperframe\n",
      "    Found existing installation: hyperframe 6.0.1\n",
      "    Uninstalling hyperframe-6.0.1:\n",
      "      Successfully uninstalled hyperframe-6.0.1\n",
      "  Attempting uninstall: hpack\n",
      "    Found existing installation: hpack 4.0.0\n",
      "    Uninstalling hpack-4.0.0:\n",
      "      Successfully uninstalled hpack-4.0.0\n",
      "  Attempting uninstall: h11\n",
      "    Found existing installation: h11 0.14.0\n",
      "    Uninstalling h11-0.14.0:\n",
      "      Successfully uninstalled h11-0.14.0\n",
      "  Attempting uninstall: idna\n",
      "    Found existing installation: idna 3.4\n",
      "    Uninstalling idna-3.4:\n",
      "      Successfully uninstalled idna-3.4\n",
      "  Attempting uninstall: h2\n",
      "    Found existing installation: h2 4.1.0\n",
      "    Uninstalling h2-4.1.0:\n",
      "      Successfully uninstalled h2-4.1.0\n",
      "  Attempting uninstall: httpcore\n",
      "    Found existing installation: httpcore 0.18.0\n",
      "    Uninstalling httpcore-0.18.0:\n",
      "      Successfully uninstalled httpcore-0.18.0\n",
      "  Attempting uninstall: httpx\n",
      "    Found existing installation: httpx 0.25.0\n",
      "    Uninstalling httpx-0.25.0:\n",
      "      Successfully uninstalled httpx-0.25.0\n",
      "Successfully installed chardet-3.0.4 googletrans-4.0.0rc1 h11-0.9.0 h2-3.2.0 hpack-3.0.0 hstspreload-2023.1.1 httpcore-0.9.1 httpx-0.13.3 hyperframe-5.2.0 idna-2.10 rfc3986-1.5.0\n",
      "Note: you may need to restart the kernel to use updated packages.\n"
     ]
    },
    {
     "name": "stderr",
     "output_type": "stream",
     "text": [
      "ERROR: pip's dependency resolver does not currently take into account all the packages that are installed. This behaviour is the source of the following dependency conflicts.\n",
      "duckduckgo-search 3.9.3 requires httpx[brotli,http2,socks]>=0.25.0, but you have httpx 0.13.3 which is incompatible.\n",
      "replicate 0.15.4 requires httpx<1,>=0.21.0, but you have httpx 0.13.3 which is incompatible.\n"
     ]
    }
   ],
   "source": [
    "%pip install googletrans==4.0.0-rc1\n"
   ]
  },
  {
   "cell_type": "code",
   "execution_count": 7,
   "metadata": {},
   "outputs": [
    {
     "name": "stdout",
     "output_type": "stream",
     "text": [
      "Java is a strictly typized object -oriented general -purpose programming language developed by Sun Microsystems\n"
     ]
    }
   ],
   "source": [
    "from googletrans import Translator\n",
    "\n",
    "def translate_to_english(text):\n",
    "    translator = Translator()\n",
    "    translated = translator.translate(text, src='ru', dest='en')\n",
    "    return translated.text\n",
    "\n",
    "russian_text = \"Java - это строго типизированный объектно-ориентированный язык программирования общего назначения, разработанный компанией Sun Microsystems\"\n",
    "english_translation = translate_to_english(russian_text)\n",
    "print(english_translation)\n"
   ]
  },
  {
   "cell_type": "code",
   "execution_count": 12,
   "metadata": {},
   "outputs": [
    {
     "name": "stdout",
     "output_type": "stream",
     "text": [
      "0.1.7.2\n",
      "g4f.provider.Ails supports: (model: str, messages: list[dict[str, str]], stream: bool, temperature: float)\n"
     ]
    }
   ],
   "source": [
    "import g4f\n",
    "\n",
    "g4f.logging = False # enable logging\n",
    "g4f.check_version = False # Disable automatic version checking\n",
    "print(g4f.version) # check version\n",
    "print(g4f.Provider.Ails.params)  # supported args\n",
    "\n",
    "message = english_translation\n",
    "# Automatic selection of provider'\n",
    "request = f\"\"\"It is necessary to act in the role of Checking tasks.definition is \"{message}\" is it true? \n",
    "Please answer only with the words 'yes' if the definition is true or 'no' if it is false.\"\"\"\n",
    "# streamed completion\n",
    "response = g4f.ChatCompletion.create(\n",
    "    model=\"gpt-3.5-turbo\",\n",
    "    messages=[{\"role\": \"user\", \"content\": request}],\n",
    "    stream=True,\n",
    ")\n",
    "result_text=\"\"\n",
    "for message in response:\n",
    "    result_text+=message\n",
    "\n",
    "\n"
   ]
  },
  {
   "cell_type": "code",
   "execution_count": 13,
   "metadata": {},
   "outputs": [
    {
     "data": {
      "text/plain": [
       "'Yes'"
      ]
     },
     "execution_count": 13,
     "metadata": {},
     "output_type": "execute_result"
    }
   ],
   "source": [
    "result_text"
   ]
  },
  {
   "cell_type": "code",
   "execution_count": null,
   "metadata": {},
   "outputs": [],
   "source": [
    "response = g4f.ChatCompletion.create(\n",
    "    model=\"gpt-3.5-turbo\",\n",
    "    messages=[{\"role\": \"user\", \"content\": request}],\n",
    "    stream=True,\n",
    ")\n",
    "\n",
    "for message in response:\n",
    "    print(message, flush=True, end='')"
   ]
  }
 ],
 "metadata": {
  "kernelspec": {
   "display_name": ".venv",
   "language": "python",
   "name": "python3"
  },
  "language_info": {
   "codemirror_mode": {
    "name": "ipython",
    "version": 3
   },
   "file_extension": ".py",
   "mimetype": "text/x-python",
   "name": "python",
   "nbconvert_exporter": "python",
   "pygments_lexer": "ipython3",
   "version": "3.11.5"
  }
 },
 "nbformat": 4,
 "nbformat_minor": 2
}
